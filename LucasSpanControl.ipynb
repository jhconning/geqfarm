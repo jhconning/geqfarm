{
 "cells": [
  {
   "attachments": {},
   "cell_type": "markdown",
   "metadata": {},
   "source": [
    "# Farm size distribution with Lucas-type farm managers"
   ]
  },
  {
   "attachments": {},
   "cell_type": "markdown",
   "metadata": {},
   "source": [
    "In the farm-size distribution models explored in other notebooks we assumed a distribution of household farming skill $s_i$ and, implicitly, that time required for management is different and non-substitutable with labor used in farm work (so household has an endowment of 'skill' and separately an endowment of labor).  \n",
    "\n",
    "With no fixed costs in production this implies every farm household will be a producer.\n",
    "\n",
    "The original Lucas (1978) span-of-control model on the other hand made the somewhat different assumption that the household had to choose between being a manager/operator or being a pure laborer. \n",
    "\n",
    "It's not that hard to adapt the code for the model to allow for a Lucas-style economy as described below.  When we calculate factor demands each household must also decide whether to be a manager or a laborer at given factor prices (operate if profits/return to managerial ability are larger than wage income from instead being a laborer). We search for equilibrium prices based on those decisions. "
   ]
  },
  {
   "cell_type": "code",
   "execution_count": 1,
   "metadata": {},
   "outputs": [
    {
     "name": "stdout",
     "output_type": "stream",
     "text": [
      "last updated: 2019-10-17 16:53:49\n"
     ]
    }
   ],
   "source": [
    "%load_ext watermark\n",
    "%watermark -u -d -t"
   ]
  },
  {
   "cell_type": "code",
   "execution_count": 10,
   "metadata": {},
   "outputs": [],
   "source": [
    "import numpy as np\n",
    "from matplotlib import pyplot as plt\n",
    "from scipy.stats import lognorm\n",
    "plt.rcParams[\"figure.figsize\"] = (5, 4)\n",
    "np.set_printoptions(precision=4)\n",
    "%matplotlib inline"
   ]
  },
  {
   "cell_type": "code",
   "execution_count": 11,
   "metadata": {},
   "outputs": [
    {
     "name": "stdout",
     "output_type": "stream",
     "text": [
      "The autoreload extension is already loaded. To reload it, use:\n",
      "  %reload_ext autoreload\n"
     ]
    }
   ],
   "source": [
    "from geqfarm import *\n",
    "%load_ext autoreload\n",
    "%autoreload 2"
   ]
  },
  {
   "attachments": {},
   "cell_type": "markdown",
   "metadata": {},
   "source": [
    "Create an 'economy' object with N skill-level groups."
   ]
  },
  {
   "cell_type": "code",
   "execution_count": 12,
   "metadata": {},
   "outputs": [],
   "source": [
    "N = 10  # number of skill levels\n",
    "E = Economy(N)\n",
    "E.GAMMA = 0.9\n",
    "E.ALPHA = 0.5\n",
    "Xbar = [E.TBAR, E.LBAR]"
   ]
  },
  {
   "attachments": {},
   "cell_type": "markdown",
   "metadata": {},
   "source": [
    "Let's summarize the parameters as they now stand:"
   ]
  },
  {
   "cell_type": "code",
   "execution_count": 13,
   "metadata": {},
   "outputs": [
    {
     "name": "stdout",
     "output_type": "stream",
     "text": [
      "N = 10, GAMMA = 0.9, ALPHA = 0.5, LAMBDA = 0.1, TBAR = 100, LBAR = 100, H = 0.0, \n",
      "s = [1. 1. 1. 1. 1. 1.], \n",
      "Lucas = False, analytic = True, "
     ]
    }
   ],
   "source": [
    "E.print_params()"
   ]
  },
  {
   "attachments": {},
   "cell_type": "markdown",
   "metadata": {},
   "source": [
    "When `Lucas = False` farms don't have to specialize in farm management.  \n",
    "\n",
    "When we change the flag to `True` then as in Lucas (1978) household labor must be dedicated to either management (and labor must be hired) or to purely laboring.  Only households with managerial skill above a certain theshold will choose to become managers."
   ]
  },
  {
   "attachments": {},
   "cell_type": "markdown",
   "metadata": {},
   "source": [
    "## Assumed skill distribution\n",
    "\n",
    "To illustrate with the simples case, let's assume skills are uniformly distributed across the N groups.  "
   ]
  },
  {
   "cell_type": "code",
   "execution_count": 14,
   "metadata": {},
   "outputs": [
    {
     "data": {
      "image/png": "[encoded data removed]",
      "text/plain": [
       "<Figure size 500x500 with 1 Axes>"
      ]
     },
     "metadata": {},
     "output_type": "display_data"
    }
   ],
   "source": [
    "x = np.arange(10)\n",
    "E.s = np.array([1, 1, 1, 1, 1, 2, 2, 3, 3, 4])\n",
    "\n",
    "plt.figure(figsize=(5,5))\n",
    "plt.title('skill distribution')\n",
    "plt.xlabel('group index')\n",
    "plt.plot(x,E.s,marker='o');"
   ]
  },
  {
   "attachments": {},
   "cell_type": "markdown",
   "metadata": {},
   "source": [
    "## No Lucas-style specialization\n",
    "\n",
    "In the original Lucas (1978) story households have to choose between becoming workers and managers.  If a manager you spend all your time supervising and use hired labor.  If you choose to be a worker you don't manage a firm.  \n",
    "\n",
    "Here we allow households to be farm operators using own and or hired labor.  So the choice is not so startk. \n",
    "\n",
    "We can run the model either way. First we demonstrate the latter."
   ]
  },
  {
   "cell_type": "code",
   "execution_count": 15,
   "metadata": {},
   "outputs": [],
   "source": [
    "E.Lucas = False\n",
    "rwc, (Tc,Lc) = E.smallhold_eq([E.TBAR,E.LBAR],E.s)"
   ]
  },
  {
   "attachments": {},
   "cell_type": "markdown",
   "metadata": {},
   "source": [
    "Equilibrium factor prices"
   ]
  },
  {
   "cell_type": "code",
   "execution_count": 16,
   "metadata": {},
   "outputs": [
    {
     "data": {
      "text/plain": [
       "array([0.3811, 0.3811])"
      ]
     },
     "execution_count": 16,
     "metadata": {},
     "output_type": "execute_result"
    }
   ],
   "source": [
    "rwc"
   ]
  },
  {
   "cell_type": "code",
   "execution_count": 17,
   "metadata": {},
   "outputs": [
    {
     "data": {
      "text/plain": [
       "array([[5.2632, 5.2632, 5.2632, 5.2632, 5.2632, 0.    , 0.    , 0.    ,\n",
       "        0.    , 0.    ],\n",
       "       [5.2632, 5.2632, 5.2632, 5.2632, 5.2632, 0.    , 0.    , 0.    ,\n",
       "        0.    , 0.    ]])"
      ]
     },
     "execution_count": 17,
     "metadata": {},
     "output_type": "execute_result"
    }
   ],
   "source": [
    "E.demands(rwc, E.s)"
   ]
  },
  {
   "cell_type": "code",
   "execution_count": 20,
   "metadata": {},
   "outputs": [
    {
     "data": {
      "image/png": "[encoded data removed]",
      "text/plain": [
       "<Figure size 500x500 with 1 Axes>"
      ]
     },
     "metadata": {},
     "output_type": "display_data"
    }
   ],
   "source": [
    "plt.figure(figsize =(5,5))\n",
    "plt.title('induced farm size (factor use) distribution')\n",
    "plt.plot(Tc,marker='o')\n",
    "plt.plot(Lc, marker='x');"
   ]
  },
  {
   "attachments": {},
   "cell_type": "markdown",
   "metadata": {},
   "source": [
    "Let's verify that at these factor prices excess demands zero out"
   ]
  },
  {
   "cell_type": "code",
   "execution_count": 21,
   "metadata": {},
   "outputs": [
    {
     "data": {
      "text/plain": [
       "False"
      ]
     },
     "execution_count": 21,
     "metadata": {},
     "output_type": "execute_result"
    }
   ],
   "source": [
    "E.Lucas"
   ]
  },
  {
   "attachments": {},
   "cell_type": "markdown",
   "metadata": {},
   "source": [
    " ??? PUZZLED BY WHY NEGATIVE PROFITS"
   ]
  },
  {
   "cell_type": "code",
   "execution_count": 22,
   "metadata": {},
   "outputs": [
    {
     "data": {
      "text/plain": [
       "array([5.2632, 5.2632, 5.2632, 5.2632, 5.2632, 0.    , 0.    , 0.    ,\n",
       "       0.    , 0.    ])"
      ]
     },
     "execution_count": 22,
     "metadata": {},
     "output_type": "execute_result"
    }
   ],
   "source": [
    "E.demands(rwc, E.s)[0]"
   ]
  },
  {
   "cell_type": "code",
   "execution_count": 24,
   "metadata": {},
   "outputs": [
    {
     "data": {
      "text/plain": [
       "array([-73.6842, -73.6842])"
      ]
     },
     "execution_count": 24,
     "metadata": {},
     "output_type": "execute_result"
    }
   ],
   "source": [
    "E.excessD(rwc, Xbar, E.s)   # should be essentially 0"
   ]
  },
  {
   "cell_type": "code",
   "execution_count": 35,
   "metadata": {},
   "outputs": [
    {
     "data": {
      "text/plain": [
       "array([1.    , 1.1111, 1.2222, 1.3333, 1.4444, 1.5556, 1.6667, 1.7778,\n",
       "       1.8889, 2.    ])"
      ]
     },
     "execution_count": 35,
     "metadata": {},
     "output_type": "execute_result"
    }
   ],
   "source": [
    "E.s"
   ]
  },
  {
   "attachments": {},
   "cell_type": "markdown",
   "metadata": {},
   "source": [
    "# A Lucas Economy"
   ]
  },
  {
   "cell_type": "code",
   "execution_count": 20,
   "metadata": {},
   "outputs": [],
   "source": [
    "E.Lucas = True\n",
    "rwc_L, (Tc_L,Lc_L) = E.smallhold_eq([E.TBAR,E.LBAR],E.s)"
   ]
  },
  {
   "attachments": {},
   "cell_type": "markdown",
   "metadata": {},
   "source": [
    "In the Lucas equilibrium there is less unskilled labor (since managers cannot be laborers) so all else equal we would expect higher wages."
   ]
  },
  {
   "cell_type": "code",
   "execution_count": 19,
   "metadata": {},
   "outputs": [
    {
     "data": {
      "text/plain": [
       "(array([0.3192, 0.4787]), array([0.3192, 0.4787]))"
      ]
     },
     "execution_count": 19,
     "metadata": {},
     "output_type": "execute_result"
    }
   ],
   "source": [
    "rwc, rwc_L"
   ]
  },
  {
   "attachments": {},
   "cell_type": "markdown",
   "metadata": {},
   "source": [
    "In this sample equilibrium the two lowest skill groups become pure laborers. "
   ]
  },
  {
   "cell_type": "code",
   "execution_count": 46,
   "metadata": {},
   "outputs": [
    {
     "data": {
      "image/png": "[encoded data removed]",
      "text/plain": [
       "<matplotlib.figure.Figure at 0xad810f0>"
      ]
     },
     "metadata": {},
     "output_type": "display_data"
    }
   ],
   "source": [
    "plt.title('Eqn factor use')\n",
    "plt.xlabel('group index')\n",
    "plt.plot(x,Tc_L, marker='o', linestyle='None',label='land')\n",
    "plt.plot(x,Lc_L, marker='o', linestyle='None', label='labor')\n",
    "plt.legend();"
   ]
  },
  {
   "attachments": {},
   "cell_type": "markdown",
   "metadata": {},
   "source": [
    "Note that now about 50% of labor is going into management. However this is an artifact of the unform distribution of skill which puts so much population in the higher skill groups."
   ]
  },
  {
   "cell_type": "code",
   "execution_count": 47,
   "metadata": {},
   "outputs": [
    {
     "data": {
      "text/plain": [
       "array([  6.4158e-06,   2.5367e-04,   3.7095e-03,   3.0692e-02,\n",
       "         1.7548e-01,   7.7412e-01,   2.8182e+00,   8.8480e+00,\n",
       "         2.4698e+01,   6.2655e+01])"
      ]
     },
     "execution_count": 47,
     "metadata": {},
     "output_type": "execute_result"
    }
   ],
   "source": [
    "Tc"
   ]
  },
  {
   "attachments": {},
   "cell_type": "markdown",
   "metadata": {},
   "source": [
    "Note that the two economies (one Lucas style the other non-Lucas) **are not comparable** because they have fundamentally different production technologies."
   ]
  },
  {
   "cell_type": "code",
   "execution_count": 48,
   "metadata": {},
   "outputs": [
    {
     "data": {
      "text/plain": [
       "array([   0.    ,    0.    ,    0.    ,    0.    ,    0.    ,    0.    ,\n",
       "          0.    ,   24.9814,   69.7331,  176.899 ])"
      ]
     },
     "execution_count": 48,
     "metadata": {},
     "output_type": "execute_result"
    }
   ],
   "source": [
    "E.prodn([Tc_L,Lc_L],E.s)"
   ]
  },
  {
   "cell_type": "code",
   "execution_count": 49,
   "metadata": {},
   "outputs": [
    {
     "data": {
      "text/plain": [
       "array([  2.1209e-05,   8.3854e-04,   1.2263e-02,   1.0146e-01,\n",
       "         5.8009e-01,   2.5590e+00,   9.3161e+00,   2.9249e+01,\n",
       "         8.1645e+01,   2.0712e+02])"
      ]
     },
     "execution_count": 49,
     "metadata": {},
     "output_type": "execute_result"
    }
   ],
   "source": [
    "E.prodn([Tc,Lc],E.s)"
   ]
  },
  {
   "cell_type": "code",
   "execution_count": 50,
   "metadata": {},
   "outputs": [
    {
     "data": {
      "text/plain": [
       "271.61353371774919"
      ]
     },
     "execution_count": 50,
     "metadata": {},
     "output_type": "execute_result"
    }
   ],
   "source": [
    "sum(E.prodn([Tc_L,Lc_L],E.s))"
   ]
  },
  {
   "attachments": {},
   "cell_type": "markdown",
   "metadata": {},
   "source": [
    "A more land abundant economy"
   ]
  },
  {
   "cell_type": "code",
   "execution_count": 51,
   "metadata": {},
   "outputs": [],
   "source": [
    "E.TBAR = 500"
   ]
  },
  {
   "cell_type": "code",
   "execution_count": 52,
   "metadata": {},
   "outputs": [],
   "source": [
    "rwc_L2, (Tc_L2,Lc_L2) = E.smallhold_eq([E.TBAR,E.LBAR],E.s)"
   ]
  },
  {
   "cell_type": "code",
   "execution_count": 53,
   "metadata": {},
   "outputs": [
    {
     "data": {
      "text/plain": [
       "(array([ 0.9778,  2.0953]), array([ 0.3491,  3.74  ]))"
      ]
     },
     "execution_count": 53,
     "metadata": {},
     "output_type": "execute_result"
    }
   ],
   "source": [
    "rwc_L, rwc_L2"
   ]
  },
  {
   "cell_type": "code",
   "execution_count": 54,
   "metadata": {},
   "outputs": [
    {
     "data": {
      "text/plain": [
       "(array([   0.    ,    0.    ,    0.    ,    0.    ,    0.    ,    0.    ,\n",
       "           0.    ,   45.9871,  128.3681,  325.6445]),\n",
       " array([  0.    ,   0.    ,   0.    ,   0.    ,   0.    ,   0.    ,\n",
       "          0.    ,   6.4381,  17.9712,  45.5893]))"
      ]
     },
     "execution_count": 54,
     "metadata": {},
     "output_type": "execute_result"
    }
   ],
   "source": [
    "Tc_L2,Lc_L2"
   ]
  },
  {
   "cell_type": "code",
   "execution_count": 55,
   "metadata": {},
   "outputs": [
    {
     "data": {
      "text/plain": [
       "array([  0.    ,   0.    ,   0.    ,   0.    ,   0.    ,   0.    ,\n",
       "         0.    ,   6.4382,  17.9717,  45.5906])"
      ]
     },
     "execution_count": 55,
     "metadata": {},
     "output_type": "execute_result"
    }
   ],
   "source": [
    "Lc_L"
   ]
  },
  {
   "cell_type": "code",
   "execution_count": 56,
   "metadata": {},
   "outputs": [
    {
     "data": {
      "text/plain": [
       "484.8078705349846"
      ]
     },
     "execution_count": 56,
     "metadata": {},
     "output_type": "execute_result"
    }
   ],
   "source": [
    "sum(E.prodn([Tc_L2,Lc_L2],E.s))"
   ]
  },
  {
   "attachments": {},
   "cell_type": "markdown",
   "metadata": {},
   "source": [
    "Just out of interest, how much lower would output be in the Non-Lucas economy if every household were self-sufficient."
   ]
  },
  {
   "cell_type": "code",
   "execution_count": 57,
   "metadata": {},
   "outputs": [
    {
     "data": {
      "text/plain": [
       "425.35393638200952"
      ]
     },
     "execution_count": 57,
     "metadata": {},
     "output_type": "execute_result"
    }
   ],
   "source": [
    "Tce = np.ones(N)*(E.TBAR/N)\n",
    "Lce = np.ones(N)*(E.LBAR/N)\n",
    "sum(E.prodn([Tce,Lce],E.s))"
   ]
  },
  {
   "cell_type": "code",
   "execution_count": 58,
   "metadata": {},
   "outputs": [
    {
     "data": {
      "text/plain": [
       "array([ 14.1785,  20.48  ,  26.7815,  33.0831,  39.3846,  45.6862,\n",
       "        51.9877,  58.2892,  64.5908,  70.8923])"
      ]
     },
     "execution_count": 58,
     "metadata": {},
     "output_type": "execute_result"
    }
   ],
   "source": [
    "E.prodn([Tce,Lce],E.s)"
   ]
  },
  {
   "attachments": {},
   "cell_type": "markdown",
   "metadata": {},
   "source": [
    "Total earnings...(=value of owned factors + profits)"
   ]
  },
  {
   "cell_type": "code",
   "execution_count": 59,
   "metadata": {},
   "outputs": [
    {
     "data": {
      "image/png": "[encoded data removed]",
      "text/plain": [
       "<matplotlib.figure.Figure at 0xab64780>"
      ]
     },
     "metadata": {},
     "output_type": "display_data"
    }
   ],
   "source": [
    "plt.plot(sum(rwc*[E.TBAR/N, E.LBAR/N])+E.prodn([Tc,Lc],E.s) -rwc[0]*Tc -rwc[1]*Lc)\n",
    "plt.plot(E.prodn([Tc,Lc],E.s) -rwc[0]*Tc -rwc[1]*Lc);"
   ]
  },
  {
   "attachments": {},
   "cell_type": "markdown",
   "metadata": {},
   "source": [
    "## Market Power distortions"
   ]
  },
  {
   "cell_type": "code",
   "execution_count": 60,
   "metadata": {},
   "outputs": [
    {
     "name": "stdout",
     "output_type": "stream",
     "text": [
      "\n",
      "Assumed Parameters\n",
      "==================\n",
      "N = 10, GAMMA = 0.9, ALPHA = 0.4, LAMBDA = 0.1, TBAR = 500, LBAR = 100, H = 0.0, \n",
      "s (tail)= [ 2.7778  3.2222  3.6667  4.1111  4.5556  5.    ], \n",
      "Lucas = True, analytic = False, \n",
      "\n",
      "Effcient:[ Trc, Lrc]      [rc, wc]      w/r    F( )    [r*Tr]  [w*Lr] \n",
      "==============================================================================\n",
      "        [325.64, 45.59]  [0.35,3.74]   10.71  | 315.75   113.67   170.51 \n",
      "\n",
      "Theta  [ Tr, Lr ]      [rM,wM]        w/r  | F()   [T_hire]  [T_sale] [L_hire]\n",
      "==============================================================================\n",
      " 0.00  [230.92, 43.54] [ 0.37, 3.29]  8.94 | 272.14    85.14     0.00   143.41  \n",
      " 0.10  [245.18, 44.05] [ 0.38, 3.24]  8.54 | 279.83    93.14    18.99   142.88  \n",
      " 0.20  [261.24, 44.71] [ 0.39, 3.19]  8.10 | 288.63   102.80    39.35   142.46  \n",
      " 0.30  [281.43, 45.95] [ 0.41, 3.12]  7.58 | 300.88   115.75    61.70   143.32  \n",
      " 0.40  [304.99, 47.72] [ 0.43, 3.04]  6.99 | 316.09   132.55    86.92   145.04  \n",
      " 0.50  [333.69, 50.33] [ 0.47, 2.94]  6.28 | 336.00   156.20   117.03   147.88  \n",
      " 0.60  [366.58, 53.70] [ 0.52, 2.80]  5.40 | 359.95   190.22   155.68   150.54  \n",
      " 0.70  [404.88, 58.61] [ 0.61, 2.61]  4.31 | 391.12   245.57   212.28   153.17  \n",
      " 0.80  [447.90, 66.64] [ 0.79, 2.32]  2.93 | 434.73   355.44   317.42   154.86  \n",
      " 0.90  [487.39, 83.26] [  1.4, 1.76]  1.25 | 505.39   683.10   630.70   146.44  \n",
      " 0.97  [491.61, 83.25] [  1.8, 1.52]  0.84 | 506.95   894.06   882.05   126.47  \n",
      "==============================================================================\n"
     ]
    }
   ],
   "source": [
    "(Xrc,Xr,wc,wr) = scene_print(E,10, detail=True)"
   ]
  },
  {
   "cell_type": "code",
   "execution_count": 28,
   "metadata": {},
   "outputs": [
    {
     "data": {
      "image/png": "[encoded data removed]",
      "text/plain": [
       "<matplotlib.figure.Figure at 0xaa46160>"
      ]
     },
     "metadata": {},
     "output_type": "display_data"
    }
   ],
   "source": [
    "factor_plot(E,Xrc,Xr)"
   ]
  },
  {
   "attachments": {},
   "cell_type": "markdown",
   "metadata": {},
   "source": [
    "## Lucas = True"
   ]
  },
  {
   "cell_type": "code",
   "execution_count": 29,
   "metadata": {
    "collapsed": true
   },
   "outputs": [],
   "source": [
    "E.Lucas = True\n",
    "rwcl, (Tcl,Lcl) = E.smallhold_eq([E.TBAR,E.LBAR],E.s)"
   ]
  },
  {
   "cell_type": "code",
   "execution_count": 30,
   "metadata": {},
   "outputs": [
    {
     "data": {
      "text/plain": [
       "array([  0.    ,   0.    ,   0.    ,   0.    ,   0.    ,   2.3885,\n",
       "         4.5573,   8.0751,  13.4915,  21.4883])"
      ]
     },
     "execution_count": 30,
     "metadata": {},
     "output_type": "execute_result"
    }
   ],
   "source": [
    "Lcl"
   ]
  },
  {
   "cell_type": "code",
   "execution_count": 31,
   "metadata": {},
   "outputs": [
    {
     "data": {
      "text/plain": [
       "array([  4.0000e+02,   6.9163e-04])"
      ]
     },
     "execution_count": 31,
     "metadata": {},
     "output_type": "execute_result"
    }
   ],
   "source": [
    "E.excessD(rwcl,Xbar,E.s)"
   ]
  },
  {
   "cell_type": "code",
   "execution_count": 32,
   "metadata": {},
   "outputs": [
    {
     "data": {
      "image/png": "[encoded data removed]",
      "text/plain": [
       "<matplotlib.figure.Figure at 0xade2358>"
      ]
     },
     "metadata": {},
     "output_type": "display_data"
    }
   ],
   "source": [
    "plt.title('Competitive: Induced farm size (factor use) distribution')\n",
    "plt.plot(Tcl,marker='o',label='land (Lucas)')\n",
    "plt.plot(Lcl, marker='x',label='labor (Lucas)')\n",
    "plt.plot(Tc, '-o',label='land ')\n",
    "plt.plot(Lc, marker='x',label='labor ')\n",
    "plt.legend();"
   ]
  },
  {
   "attachments": {},
   "cell_type": "markdown",
   "metadata": {},
   "source": [
    "Not that the two economies are directly comparable (technologies are not the same)... but in the Lucas economy there will be less operating farms and a lower supply of farm labor (since the more skilled become full-time managers).  The farms that do operate will therefore use more land and less labor compared to the non-Lucas economy."
   ]
  },
  {
   "cell_type": "code",
   "execution_count": 33,
   "metadata": {},
   "outputs": [
    {
     "data": {
      "text/plain": [
       "result(w=array([ 0.3452,  3.4356]), X=array([[   0.    ,    0.    ,    0.    ,    0.    ,    0.    ,   23.8851,\n",
       "          45.5729,   80.7506,  134.9138,  214.8818],\n",
       "       [   0.    ,    0.    ,    0.    ,    0.    ,    0.    ,    1.6   ,\n",
       "           3.0528,    5.4093,    9.0375,   14.3944]]))"
      ]
     },
     "execution_count": 33,
     "metadata": {},
     "output_type": "execute_result"
    }
   ],
   "source": [
    "E.Lucas = True\n",
    "E.smallhold_eq([E.TBAR,E.LBAR/2], E.s)"
   ]
  },
  {
   "attachments": {},
   "cell_type": "markdown",
   "metadata": {},
   "source": [
    "### Cartel equilibria"
   ]
  },
  {
   "cell_type": "code",
   "execution_count": 34,
   "metadata": {},
   "outputs": [
    {
     "name": "stdout",
     "output_type": "stream",
     "text": [
      "\n",
      "Assumed Parameters\n",
      "==================\n",
      "N = 10, GAMMA = 0.8, ALPHA = 0.6, LAMBDA = 0.1, TBAR = 500, LBAR = 100, H = 0.0, \n",
      "s (tail)= [ 2.7778  3.2222  3.6667  4.1111  4.5556  5.    ], \n",
      "Lucas = True, analytic = False, \n",
      "\n",
      "Effcient:[ Trc, Lrc]      [rc, wc]      w/r    F( )    [r*Tr]  [w*Lr] \n",
      "==============================================================================\n",
      "        [214.88, 21.49]  [0.39,2.62]   6.67  | 175.68   84.33    56.22 \n",
      "\n",
      "Theta  [ Tr, Lr ]      [rM,wM]        w/r  | F()   [T_hire]  [T_sale] [L_hire]\n",
      "==============================================================================\n",
      " 0.00  [174.72, 25.62] [ 0.41, 2.21]  5.41 | 168.29    71.42     0.00    56.61  \n",
      " 0.10  [174.72, 25.62] [ 0.41, 2.21]  5.41 | 168.29    71.42    20.44    56.61  \n",
      " 0.20  [190.31, 26.24] [ 0.42, 2.16]  5.15 | 176.67    79.80    41.93    56.62  \n",
      " 0.30  [228.18, 32.60] [ 0.45, 2.03]  4.52 | 206.62   102.41    67.32    66.07  \n",
      " 0.40  [245.36, 33.14] [ 0.46, 1.96]  4.23 | 215.07   113.91    92.85    65.11  \n",
      " 0.50  [262.41, 33.14] [ 0.48, 1.90]  3.95 | 222.13   126.30   120.32    62.98  \n",
      " 0.60  [283.24, 33.16] [  0.5, 1.82]  3.60 | 230.46   142.98   151.43    60.30  \n",
      " 0.70  [297.20, 32.01] [ 0.53, 1.73]  3.24 | 233.20   158.50   186.66    55.33  \n",
      " 0.80  [297.20, 32.01] [ 0.53, 1.73]  3.24 | 233.20   158.50   213.33    55.33  \n",
      " 0.90  [297.20, 32.01] [ 0.53, 1.73]  3.24 | 233.20   158.50   240.00    55.33  \n",
      " 0.97  [454.12, 41.26] [  1.5, 0.66]  0.43 | 310.02   691.83   738.89    27.07  \n",
      "==============================================================================\n"
     ]
    }
   ],
   "source": [
    "(Xrcl,Xrl,wcl,wrl) = scene_print(E, numS=10, detail=True)"
   ]
  },
  {
   "attachments": {},
   "cell_type": "markdown",
   "metadata": {},
   "source": [
    "Compared to the original scenario the landlord with marker power in the Lucas-scneario faces a countervailing force:  if she pushes the wage too low then she makes self-managed production more attractive for a would-be medium sized farmer who is not now in production. \n",
    "\n",
    "From the solution it would appear that the beyond a certain theta there does not appear to be an available way for the landlord to distort further. ."
   ]
  },
  {
   "cell_type": "code",
   "execution_count": 21,
   "metadata": {},
   "outputs": [
    {
     "data": {
      "image/png": "[encoded data removed]",
      "text/plain": [
       "<matplotlib.figure.Figure at 0x2afe585f3c8>"
      ]
     },
     "metadata": {},
     "output_type": "display_data"
    },
    {
     "data": {
      "image/png": "[encoded data removed]",
      "text/plain": [
       "<matplotlib.figure.Figure at 0x2afe5639940>"
      ]
     },
     "metadata": {},
     "output_type": "display_data"
    }
   ],
   "source": [
    "E.Lucas = True\n",
    "factor_plot(E,Xrcl,Xrl)\n",
    "\n",
    "E.Lucas = False\n",
    "factor_plot(E,Xrc,Xr)"
   ]
  },
  {
   "cell_type": "code",
   "execution_count": 28,
   "metadata": {},
   "outputs": [
    {
     "data": {
      "text/plain": [
       "result(w=array([ 0.2449,  0.5249]), X=array([[  0.    ,   0.    ,   4.2874,   5.4719,   6.9049,   8.6235,\n",
       "         10.6684,  13.0841,  15.9188,  35.0147],\n",
       "       [  0.    ,   0.    ,   2.    ,   2.5526,   3.221 ,   4.0227,\n",
       "          4.9766,   6.1035,   7.4259,  13.3939]]))"
      ]
     },
     "execution_count": 28,
     "metadata": {},
     "output_type": "execute_result"
    }
   ],
   "source": [
    "E.Lucas = True\n",
    "E.cartel_eq(0.5)"
   ]
  },
  {
   "cell_type": "code",
   "execution_count": 31,
   "metadata": {},
   "outputs": [
    {
     "data": {
      "text/plain": [
       "result(w=array([ 0.2322,  0.5438]), X=array([[  0.    ,   0.    ,   4.6839,   5.978 ,   7.5435,   9.421 ,\n",
       "         11.6551,  14.2942,  17.3911,  29.0069],\n",
       "       [  0.    ,   0.    ,   2.    ,   2.5526,   3.221 ,   4.0227,\n",
       "          4.9766,   6.1035,   7.4259,  11.0562]]))"
      ]
     },
     "execution_count": 31,
     "metadata": {},
     "output_type": "execute_result"
    }
   ],
   "source": [
    "E.cartel_eq(0.6)"
   ]
  },
  {
   "cell_type": "code",
   "execution_count": 44,
   "metadata": {},
   "outputs": [
    {
     "data": {
      "text/plain": [
       "array([  0.    ,   0.    ,   2.    ,   2.5526,   3.221 ,   4.0227,\n",
       "         4.9766,   6.1035,   7.4259,  13.3939])"
      ]
     },
     "execution_count": 44,
     "metadata": {},
     "output_type": "execute_result"
    }
   ],
   "source": [
    "E.cartel_eq(0.2)\n",
    "Lr"
   ]
  },
  {
   "attachments": {},
   "cell_type": "markdown",
   "metadata": {},
   "source": [
    "Something is still not right... labor used/demanded excees labor supply"
   ]
  },
  {
   "cell_type": "code",
   "execution_count": 46,
   "metadata": {},
   "outputs": [
    {
     "data": {
      "text/plain": [
       "(43.696182284960678, 80.0)"
      ]
     },
     "execution_count": 46,
     "metadata": {},
     "output_type": "execute_result"
    }
   ],
   "source": [
    "(r,w),(Tr,Lr)= E.cartel_eq(0.5)\n",
    "sum(Lr),np.count_nonzero(Lr)*(E.LBAR)/E.N"
   ]
  },
  {
   "cell_type": "code",
   "execution_count": 47,
   "metadata": {},
   "outputs": [
    {
     "data": {
      "text/plain": [
       "43.696182284960678"
      ]
     },
     "execution_count": 47,
     "metadata": {},
     "output_type": "execute_result"
    }
   ],
   "source": [
    "sum(Lr)"
   ]
  },
  {
   "cell_type": "code",
   "execution_count": 49,
   "metadata": {},
   "outputs": [],
   "source": [
    "fringe = E.smallhold_eq([E.TBAR,E.LBAR/2], E.s)"
   ]
  },
  {
   "cell_type": "code",
   "execution_count": 57,
   "metadata": {},
   "outputs": [
    {
     "data": {
      "text/plain": [
       "array([ 0.1695,  0.7863])"
      ]
     },
     "execution_count": 57,
     "metadata": {},
     "output_type": "execute_result"
    }
   ],
   "source": [
    "fringe.w"
   ]
  },
  {
   "cell_type": "code",
   "execution_count": 58,
   "metadata": {},
   "outputs": [
    {
     "data": {
      "text/plain": [
       "array([[  0.    ,   0.    ,   0.    ,   0.    ,   9.278 ,  11.5873,\n",
       "         14.335 ,  17.5809,  21.3899,  25.8321],\n",
       "       [  0.    ,   0.    ,   0.    ,   0.    ,   2.    ,   2.4978,\n",
       "          3.0901,   3.7898,   4.6109,   5.5685]])"
      ]
     },
     "execution_count": 58,
     "metadata": {},
     "output_type": "execute_result"
    }
   ],
   "source": [
    "fringe.X"
   ]
  },
  {
   "cell_type": "code",
   "execution_count": 59,
   "metadata": {},
   "outputs": [
    {
     "data": {
      "text/plain": [
       "array([  0.    ,   0.    ,   0.    ,   0.    ,   9.278 ,  11.5873,\n",
       "        14.335 ,  17.5809,  21.3899,  25.8321])"
      ]
     },
     "execution_count": 59,
     "metadata": {},
     "output_type": "execute_result"
    }
   ],
   "source": [
    "fringe.X[0]"
   ]
  },
  {
   "cell_type": "code",
   "execution_count": null,
   "metadata": {
    "collapsed": true
   },
   "outputs": [],
   "source": []
  }
 ],
 "metadata": {
  "kernelspec": {
   "display_name": "Python 3",
   "language": "python",
   "name": "python3"
  },
  "language_info": {
   "codemirror_mode": {
    "name": "ipython",
    "version": 3
   },
   "file_extension": ".py",
   "mimetype": "text/x-python",
   "name": "python",
   "nbconvert_exporter": "python",
   "pygments_lexer": "ipython3",
   "version": "3.9.13"
  },
  "varInspector": {
   "cols": {
    "lenName": 16,
    "lenType": 16,
    "lenVar": 40
   },
   "kernels_config": {
    "python": {
     "delete_cmd_postfix": "",
     "delete_cmd_prefix": "del ",
     "library": "var_list.py",
     "varRefreshCmd": "print(var_dic_list())"
    },
    "r": {
     "delete_cmd_postfix": ") ",
     "delete_cmd_prefix": "rm(",
     "library": "var_list.r",
     "varRefreshCmd": "cat(var_dic_list()) "
    }
   },
   "types_to_exclude": [
    "module",
    "function",
    "builtin_function_or_method",
    "instance",
    "_Feature"
   ],
   "window_display": false
  }
 },
 "nbformat": 4,
 "nbformat_minor": 2
}
